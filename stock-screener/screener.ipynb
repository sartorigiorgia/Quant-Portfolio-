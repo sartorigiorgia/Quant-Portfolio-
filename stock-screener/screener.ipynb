import pandas as pd
import numpy as np
import matplotlib.pyplot as plt
from datetime import datetime, timedelta
import random


def create_mock_stock_data(ticker, days=30, start_price=100):
    """Create mock stock data for demonstration"""
    dates = [(datetime.now() - timedelta(days=i)).strftime('%Y-%m-%d') for i in range(days, 0, -1)]
    
    # Generate somewhat realistic price movements
    prices = [start_price]
    for i in range(1, days):
        change = random.uniform(-0.03, 0.03)  # Daily change between -3% and 3%
        prices.append(prices[-1] * (1 + change))
    
    # Create DataFrame
    df = pd.DataFrame({
        'Open': prices,
        'High': [p * random.uniform(1, 1.02) for p in prices],
        'Low': [p * random.uniform(0.98, 1) for p in prices],
        'Close': [p * random.uniform(0.99, 1.01) for p in prices],
        'Adj Close': prices,
        'Volume': [random.randint(1000000, 10000000) for _ in range(days)]
    }, index=pd.DatetimeIndex(dates))
    
    return df
# Mock stock info function
def get_mock_stock_info(ticker):
    """Create mock stock info"""
    pe_ratios = {
        'AAPL': 28.5,
        'MSFT': 32.1,
        'TSLA': 60.2,
        'AMZN': 40.5,
        'META': 18.7,  # Low P/E for testing
        'NVDA': 45.3,
        'GOOG': 25.8,
        'JPM': 10.2,   # Low P/E for testing
        'NFLX': 35.6,
        'PEP': 22.4
    }
    
    return {'trailingPE': pe_ratios.get(ticker, 25.0)}
# Calculate RSI function
def calculate_rsi(prices, window=14):
    """Calculate RSI indicator"""
    deltas = np.diff(prices)
    seed = deltas[:window+1]
    up = seed[seed >= 0].sum()/window
    down = -seed[seed < 0].sum()/window
    rs = up/down if down != 0 else float('inf')
    rsi = np.zeros_like(prices)
    rsi[:window] = 100. - 100./(1. + rs)
    
    for i in range(window, len(prices)):
        delta = deltas[i-1]
        if delta > 0:
            upval = delta
            downval = 0.
        else:
            upval = 0.
            downval = -delta
            
        up = (up * (window - 1) + upval) / window
        down = (down * (window - 1) + downval) / window
        
        rs = up/down if down != 0 else float('inf')
        rsi[i] = 100. - 100./(1. + rs)
        
    return rsi
# Load tickers (small subset of S&P 500 for demo)
tickers = ['AAPL', 'MSFT', 'TSLA', 'AMZN', 'META', 'NVDA', 'GOOG', 'JPM', 'NFLX', 'PEP']

# Empty list to store results
results = []

# Set random seed for reproducibility
random.seed(42)

for ticker in tickers:
    try:
        print(f"Processing {ticker}...")
        
        # Generate mock data
        start_price = random.uniform(50, 500)
        df = create_mock_stock_data(ticker, days=30, start_price=start_price)
        
        # Calculate 5-day return
        df['5d_return'] = df['Adj Close'].pct_change(5)
        
        # Calculate RSI
        df['RSI'] = calculate_rsi(df['Adj Close'].values)
        
        # Manipulate some data to ensure we have matches for demonstration
        if ticker in ['META', 'JPM']:
            # Make RSI low for these tickers
            df['RSI'] = df['RSI'] * 0.5
            # Make 5-day return positive
            df.iloc[-1, df.columns.get_loc('5d_return')] = random.uniform(0.01, 0.05)
        
        # Get latest values
        latest = df.iloc[-1]
        price = latest['Adj Close']
        return_5d = latest['5d_return']
        rsi_latest = latest['RSI']
# Get mock P/E ratio
        stock_info = get_mock_stock_info(ticker)
        pe_ratio = stock_info.get('trailingPE', None)
        
        print(f"{ticker} - Price: ${price:.2f}, 5d Return: {return_5d*100:.2f}%, RSI: {rsi_latest:.2f}, P/E: {pe_ratio:.2f}")
        
        # Screening condition
        if pe_ratio and pe_ratio < 20 and rsi_latest < 30 and return_5d > 0:
            results.append({
                'Ticker': ticker,
                'Price': round(price, 2),
                '5d Return': round(return_5d * 100, 2),
                'RSI': round(rsi_latest, 2),
                'P/E Ratio': round(pe_ratio, 2)
            })
            print(f"✅ {ticker} matched screening criteria")
        else:
            print(f"❌ {ticker} did not match screening criteria")
            
    except Exception as e:
        print(f"Error for {ticker}: {e}")

# Convert to DataFrame
screened_df = pd.DataFrame(results)
print("\nScreened Stocks:")
print(screened_df) # Plot
if not screened_df.empty:
    ax = screened_df.set_index('Ticker')['5d Return'].plot(
        kind='bar', 
        title='5-day Returns of Screened Stocks',
        figsize=(10, 6),
        color='green'
    )
    plt.ylabel('% Return')
    plt.grid(axis='y', linestyle='--', alpha=0.7)
    plt.tight_layout()
    
    # Add value labels on top of bars
    for i, v in enumerate(screened_df['5d Return']):
        ax.text(i, v + 0.1, f"{v}%", ha='center')
        
    plt.show()
else:
    print("No stocks matched the screening criteria.") 
